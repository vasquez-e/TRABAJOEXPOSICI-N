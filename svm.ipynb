{
 "cells": [
  {
   "cell_type": "code",
   "execution_count": 1,
   "metadata": {},
   "outputs": [
    {
     "name": "stdout",
     "output_type": "stream",
     "text": [
      "5.0    681\n",
      "6.0    638\n",
      "7.0    199\n",
      "4.0     53\n",
      "8.0     18\n",
      "3.0     10\n",
      "Name: quality, dtype: int64\n",
      "0.625\n"
     ]
    }
   ],
   "source": [
    "import pandas as pd\n",
    "\n",
    "from sklearn.model_selection import train_test_split\n",
    "datos=pd.read_csv('wineq.csv')\n",
    "datos=datos.astype(float).fillna(0.0)\n",
    "\n",
    "y=datos.quality\n",
    "X=datos.drop('quality',axis=1)\n",
    "print(datos['quality'].value_counts())\n",
    "\n",
    "X_train, X_test, y_train, y_test = train_test_split(X, y, test_size=0.2, random_state=42, stratify=y)\n",
    "\n",
    "from sklearn.preprocessing import StandardScaler\n",
    "sc = StandardScaler()\n",
    "X_train_array = sc.fit_transform(X_train.values) #\n",
    "\n",
    "X_train = pd.DataFrame(X_train_array, index=X_train.index, columns=X_train.columns)\n",
    "X_test_array = sc.transform(X_test.values)\n",
    "X_test = pd.DataFrame(X_test_array, index=X_test.index, columns=X_test.columns)\n",
    "\n",
    "\n",
    "from sklearn.svm import SVC\n",
    "clf=SVC(kernel='rbf').fit(X_train,y_train)\n",
    "print(clf.score(X_test,y_test))\n"
   ]
  },
  {
   "cell_type": "code",
   "execution_count": null,
   "metadata": {},
   "outputs": [],
   "source": []
  }
 ],
 "metadata": {
  "kernelspec": {
   "display_name": "Python 3",
   "language": "python",
   "name": "python3"
  },
  "language_info": {
   "codemirror_mode": {
    "name": "ipython",
    "version": 3
   },
   "file_extension": ".py",
   "mimetype": "text/x-python",
   "name": "python",
   "nbconvert_exporter": "python",
   "pygments_lexer": "ipython3",
   "version": "3.7.6"
  }
 },
 "nbformat": 4,
 "nbformat_minor": 4
}
